{
 "cells": [
  {
   "cell_type": "code",
   "execution_count": 1,
   "id": "d610484e",
   "metadata": {},
   "outputs": [],
   "source": [
    "#libraries and dataframe\n",
    "import pandas as pd\n",
    "import numpy as np\n",
    "import matplotlib.pyplot as plt\n",
    "import seaborn as sns\n",
    "import mpl_scatter_density\n",
    "from random import random \n",
    "from sklearn.cluster import KMeans\n",
    "\n",
    "champs2 = pd.read_csv(\"../Datasets/2/champs.csv\")\n",
    "participants=pd.read_csv(\"../Datasets/2/participants.csv\")\n",
    "\n",
    "champs5= pd.read_csv(\"../Datasets/5/LoL-Champions.csv\")\n",
    "teambans=pd.read_csv(\"../Datasets/2/teambans.csv\")\n",
    "stats=pd.read_csv(\"../Datasets/2/stats1.csv\")\n",
    "\n",
    "dotaheronames=pd.read_csv(\"../Datasets/3/hero_names.csv\")\n",
    "dotaplayers=pd.read_csv(\"../Datasets/3/players.csv\")\n",
    "dotaheroesdata=pd.read_csv(\"../Datasets/6/heroes_data.csv\")\n",
    "\n",
    "plt.rcParams['figure.figsize'] = [7, 7]"
   ]
  },
  {
   "cell_type": "code",
   "execution_count": 2,
   "id": "0200844b",
   "metadata": {},
   "outputs": [
    {
     "name": "stdout",
     "output_type": "stream",
     "text": [
      "138 \n",
      "hero in champs2 ds\n"
     ]
    },
    {
     "data": {
      "text/html": [
       "<div>\n",
       "<style scoped>\n",
       "    .dataframe tbody tr th:only-of-type {\n",
       "        vertical-align: middle;\n",
       "    }\n",
       "\n",
       "    .dataframe tbody tr th {\n",
       "        vertical-align: top;\n",
       "    }\n",
       "\n",
       "    .dataframe thead th {\n",
       "        text-align: right;\n",
       "    }\n",
       "</style>\n",
       "<table border=\"1\" class=\"dataframe\">\n",
       "  <thead>\n",
       "    <tr style=\"text-align: right;\">\n",
       "      <th></th>\n",
       "      <th>name</th>\n",
       "      <th>id</th>\n",
       "    </tr>\n",
       "  </thead>\n",
       "  <tbody>\n",
       "    <tr>\n",
       "      <th>0</th>\n",
       "      <td>Jax</td>\n",
       "      <td>24</td>\n",
       "    </tr>\n",
       "    <tr>\n",
       "      <th>1</th>\n",
       "      <td>Sona</td>\n",
       "      <td>37</td>\n",
       "    </tr>\n",
       "    <tr>\n",
       "      <th>2</th>\n",
       "      <td>Tristana</td>\n",
       "      <td>18</td>\n",
       "    </tr>\n",
       "    <tr>\n",
       "      <th>3</th>\n",
       "      <td>Varus</td>\n",
       "      <td>110</td>\n",
       "    </tr>\n",
       "    <tr>\n",
       "      <th>4</th>\n",
       "      <td>Fiora</td>\n",
       "      <td>114</td>\n",
       "    </tr>\n",
       "  </tbody>\n",
       "</table>\n",
       "</div>"
      ],
      "text/plain": [
       "       name   id\n",
       "0       Jax   24\n",
       "1      Sona   37\n",
       "2  Tristana   18\n",
       "3     Varus  110\n",
       "4     Fiora  114"
      ]
     },
     "execution_count": 2,
     "metadata": {},
     "output_type": "execute_result"
    }
   ],
   "source": [
    "# LOL ŞAMPİYONLAR\n",
    "print(champs2.id.count(), \"\\nhero in champs2 ds\")\n",
    "champs2.head()"
   ]
  },
  {
   "cell_type": "code",
   "execution_count": 3,
   "id": "d02e453e",
   "metadata": {},
   "outputs": [
    {
     "name": "stdout",
     "output_type": "stream",
     "text": [
      "0           Anti-Mage\n",
      "1                 Axe\n",
      "2                Bane\n",
      "3         Bloodseeker\n",
      "4      Crystal Maiden\n",
      "            ...      \n",
      "107       Terrorblade\n",
      "108           Phoenix\n",
      "109            Oracle\n",
      "110     Winter Wyvern\n",
      "111        Arc Warden\n",
      "Name: localized_name, Length: 112, dtype: object \n",
      "dota heros in dotaheronames ds\n"
     ]
    }
   ],
   "source": [
    "# DOTA ŞAMPİYONLAR\n",
    "print(dotaheronames[\"localized_name\"], \"\\ndota heros in dotaheronames ds\")"
   ]
  },
  {
   "cell_type": "code",
   "execution_count": 4,
   "id": "b337b2bc",
   "metadata": {},
   "outputs": [
    {
     "data": {
      "text/html": [
       "<div>\n",
       "<style scoped>\n",
       "    .dataframe tbody tr th:only-of-type {\n",
       "        vertical-align: middle;\n",
       "    }\n",
       "\n",
       "    .dataframe tbody tr th {\n",
       "        vertical-align: top;\n",
       "    }\n",
       "\n",
       "    .dataframe thead th {\n",
       "        text-align: right;\n",
       "    }\n",
       "</style>\n",
       "<table border=\"1\" class=\"dataframe\">\n",
       "  <thead>\n",
       "    <tr style=\"text-align: right;\">\n",
       "      <th></th>\n",
       "      <th>id</th>\n",
       "      <th>win</th>\n",
       "      <th>item1</th>\n",
       "      <th>item2</th>\n",
       "      <th>item3</th>\n",
       "      <th>item4</th>\n",
       "      <th>item5</th>\n",
       "      <th>item6</th>\n",
       "      <th>trinket</th>\n",
       "      <th>kills</th>\n",
       "      <th>...</th>\n",
       "      <th>neutralminionskilled</th>\n",
       "      <th>ownjunglekills</th>\n",
       "      <th>enemyjunglekills</th>\n",
       "      <th>totcctimedealt</th>\n",
       "      <th>champlvl</th>\n",
       "      <th>pinksbought</th>\n",
       "      <th>wardsbought</th>\n",
       "      <th>wardsplaced</th>\n",
       "      <th>wardskilled</th>\n",
       "      <th>firstblood</th>\n",
       "    </tr>\n",
       "  </thead>\n",
       "  <tbody>\n",
       "    <tr>\n",
       "      <th>0</th>\n",
       "      <td>9</td>\n",
       "      <td>0</td>\n",
       "      <td>3748</td>\n",
       "      <td>2003</td>\n",
       "      <td>3111</td>\n",
       "      <td>3053</td>\n",
       "      <td>1419</td>\n",
       "      <td>1042</td>\n",
       "      <td>3340</td>\n",
       "      <td>6</td>\n",
       "      <td>...</td>\n",
       "      <td>69</td>\n",
       "      <td>42</td>\n",
       "      <td>27</td>\n",
       "      <td>610</td>\n",
       "      <td>13</td>\n",
       "      <td>0</td>\n",
       "      <td>0</td>\n",
       "      <td>10</td>\n",
       "      <td>0</td>\n",
       "      <td>0</td>\n",
       "    </tr>\n",
       "    <tr>\n",
       "      <th>1</th>\n",
       "      <td>10</td>\n",
       "      <td>0</td>\n",
       "      <td>2301</td>\n",
       "      <td>3111</td>\n",
       "      <td>3190</td>\n",
       "      <td>3107</td>\n",
       "      <td>0</td>\n",
       "      <td>0</td>\n",
       "      <td>3364</td>\n",
       "      <td>0</td>\n",
       "      <td>...</td>\n",
       "      <td>1</td>\n",
       "      <td>1</td>\n",
       "      <td>0</td>\n",
       "      <td>211</td>\n",
       "      <td>14</td>\n",
       "      <td>1</td>\n",
       "      <td>0</td>\n",
       "      <td>17</td>\n",
       "      <td>3</td>\n",
       "      <td>0</td>\n",
       "    </tr>\n",
       "    <tr>\n",
       "      <th>2</th>\n",
       "      <td>11</td>\n",
       "      <td>0</td>\n",
       "      <td>1055</td>\n",
       "      <td>3072</td>\n",
       "      <td>3006</td>\n",
       "      <td>3031</td>\n",
       "      <td>3046</td>\n",
       "      <td>1036</td>\n",
       "      <td>3340</td>\n",
       "      <td>7</td>\n",
       "      <td>...</td>\n",
       "      <td>3</td>\n",
       "      <td>1</td>\n",
       "      <td>2</td>\n",
       "      <td>182</td>\n",
       "      <td>14</td>\n",
       "      <td>1</td>\n",
       "      <td>0</td>\n",
       "      <td>13</td>\n",
       "      <td>5</td>\n",
       "      <td>0</td>\n",
       "    </tr>\n",
       "    <tr>\n",
       "      <th>3</th>\n",
       "      <td>12</td>\n",
       "      <td>0</td>\n",
       "      <td>1029</td>\n",
       "      <td>3078</td>\n",
       "      <td>3156</td>\n",
       "      <td>1001</td>\n",
       "      <td>3053</td>\n",
       "      <td>0</td>\n",
       "      <td>3340</td>\n",
       "      <td>5</td>\n",
       "      <td>...</td>\n",
       "      <td>6</td>\n",
       "      <td>6</td>\n",
       "      <td>0</td>\n",
       "      <td>106</td>\n",
       "      <td>15</td>\n",
       "      <td>0</td>\n",
       "      <td>0</td>\n",
       "      <td>3</td>\n",
       "      <td>0</td>\n",
       "      <td>0</td>\n",
       "    </tr>\n",
       "    <tr>\n",
       "      <th>4</th>\n",
       "      <td>13</td>\n",
       "      <td>0</td>\n",
       "      <td>3020</td>\n",
       "      <td>1058</td>\n",
       "      <td>3198</td>\n",
       "      <td>3102</td>\n",
       "      <td>1052</td>\n",
       "      <td>1026</td>\n",
       "      <td>3340</td>\n",
       "      <td>2</td>\n",
       "      <td>...</td>\n",
       "      <td>4</td>\n",
       "      <td>3</td>\n",
       "      <td>1</td>\n",
       "      <td>159</td>\n",
       "      <td>15</td>\n",
       "      <td>0</td>\n",
       "      <td>0</td>\n",
       "      <td>10</td>\n",
       "      <td>0</td>\n",
       "      <td>0</td>\n",
       "    </tr>\n",
       "  </tbody>\n",
       "</table>\n",
       "<p>5 rows × 56 columns</p>\n",
       "</div>"
      ],
      "text/plain": [
       "   id  win  item1  item2  item3  item4  item5  item6  trinket  kills  ...  \\\n",
       "0   9    0   3748   2003   3111   3053   1419   1042     3340      6  ...   \n",
       "1  10    0   2301   3111   3190   3107      0      0     3364      0  ...   \n",
       "2  11    0   1055   3072   3006   3031   3046   1036     3340      7  ...   \n",
       "3  12    0   1029   3078   3156   1001   3053      0     3340      5  ...   \n",
       "4  13    0   3020   1058   3198   3102   1052   1026     3340      2  ...   \n",
       "\n",
       "   neutralminionskilled  ownjunglekills  enemyjunglekills  totcctimedealt  \\\n",
       "0                    69              42                27             610   \n",
       "1                     1               1                 0             211   \n",
       "2                     3               1                 2             182   \n",
       "3                     6               6                 0             106   \n",
       "4                     4               3                 1             159   \n",
       "\n",
       "   champlvl  pinksbought  wardsbought  wardsplaced  wardskilled  firstblood  \n",
       "0        13            0            0           10            0           0  \n",
       "1        14            1            0           17            3           0  \n",
       "2        14            1            0           13            5           0  \n",
       "3        15            0            0            3            0           0  \n",
       "4        15            0            0           10            0           0  \n",
       "\n",
       "[5 rows x 56 columns]"
      ]
     },
     "execution_count": 4,
     "metadata": {},
     "output_type": "execute_result"
    }
   ],
   "source": [
    "stats.head()"
   ]
  },
  {
   "cell_type": "code",
   "execution_count": 5,
   "id": "885c847a",
   "metadata": {},
   "outputs": [
    {
     "data": {
      "text/html": [
       "<div>\n",
       "<style scoped>\n",
       "    .dataframe tbody tr th:only-of-type {\n",
       "        vertical-align: middle;\n",
       "    }\n",
       "\n",
       "    .dataframe tbody tr th {\n",
       "        vertical-align: top;\n",
       "    }\n",
       "\n",
       "    .dataframe thead th {\n",
       "        text-align: right;\n",
       "    }\n",
       "</style>\n",
       "<table border=\"1\" class=\"dataframe\">\n",
       "  <thead>\n",
       "    <tr style=\"text-align: right;\">\n",
       "      <th></th>\n",
       "      <th>id</th>\n",
       "      <th>matchid</th>\n",
       "      <th>player</th>\n",
       "      <th>championid</th>\n",
       "      <th>ss1</th>\n",
       "      <th>ss2</th>\n",
       "      <th>role</th>\n",
       "      <th>position</th>\n",
       "    </tr>\n",
       "  </thead>\n",
       "  <tbody>\n",
       "    <tr>\n",
       "      <th>0</th>\n",
       "      <td>9</td>\n",
       "      <td>10</td>\n",
       "      <td>1</td>\n",
       "      <td>19</td>\n",
       "      <td>4</td>\n",
       "      <td>11</td>\n",
       "      <td>NONE</td>\n",
       "      <td>JUNGLE</td>\n",
       "    </tr>\n",
       "    <tr>\n",
       "      <th>1</th>\n",
       "      <td>10</td>\n",
       "      <td>10</td>\n",
       "      <td>2</td>\n",
       "      <td>267</td>\n",
       "      <td>3</td>\n",
       "      <td>4</td>\n",
       "      <td>DUO_SUPPORT</td>\n",
       "      <td>BOT</td>\n",
       "    </tr>\n",
       "    <tr>\n",
       "      <th>2</th>\n",
       "      <td>11</td>\n",
       "      <td>10</td>\n",
       "      <td>3</td>\n",
       "      <td>119</td>\n",
       "      <td>7</td>\n",
       "      <td>4</td>\n",
       "      <td>DUO_CARRY</td>\n",
       "      <td>BOT</td>\n",
       "    </tr>\n",
       "    <tr>\n",
       "      <th>3</th>\n",
       "      <td>12</td>\n",
       "      <td>10</td>\n",
       "      <td>4</td>\n",
       "      <td>114</td>\n",
       "      <td>12</td>\n",
       "      <td>4</td>\n",
       "      <td>SOLO</td>\n",
       "      <td>TOP</td>\n",
       "    </tr>\n",
       "    <tr>\n",
       "      <th>4</th>\n",
       "      <td>13</td>\n",
       "      <td>10</td>\n",
       "      <td>5</td>\n",
       "      <td>112</td>\n",
       "      <td>4</td>\n",
       "      <td>3</td>\n",
       "      <td>SOLO</td>\n",
       "      <td>MID</td>\n",
       "    </tr>\n",
       "  </tbody>\n",
       "</table>\n",
       "</div>"
      ],
      "text/plain": [
       "   id  matchid  player  championid  ss1  ss2         role position\n",
       "0   9       10       1          19    4   11         NONE   JUNGLE\n",
       "1  10       10       2         267    3    4  DUO_SUPPORT      BOT\n",
       "2  11       10       3         119    7    4    DUO_CARRY      BOT\n",
       "3  12       10       4         114   12    4         SOLO      TOP\n",
       "4  13       10       5         112    4    3         SOLO      MID"
      ]
     },
     "execution_count": 5,
     "metadata": {},
     "output_type": "execute_result"
    }
   ],
   "source": [
    "participants.head()"
   ]
  },
  {
   "cell_type": "code",
   "execution_count": 6,
   "id": "b2fb19f0",
   "metadata": {},
   "outputs": [
    {
     "data": {
      "text/plain": [
       "name    0\n",
       "id      0\n",
       "dtype: int64"
      ]
     },
     "execution_count": 6,
     "metadata": {},
     "output_type": "execute_result"
    }
   ],
   "source": [
    "# CHAMPS2DEKİ BOŞ SATIRLAR KONTROLÜ\n",
    "champs2.isnull().sum()"
   ]
  },
  {
   "cell_type": "code",
   "execution_count": 7,
   "id": "29043a52",
   "metadata": {},
   "outputs": [
    {
     "data": {
      "text/plain": [
       "name              0\n",
       "hero_id           0\n",
       "localized_name    0\n",
       "dtype: int64"
      ]
     },
     "execution_count": 7,
     "metadata": {},
     "output_type": "execute_result"
    }
   ],
   "source": [
    "# dotaheronamesdeki BOŞ SATIRLAR KONTROLÜ\n",
    "dotaheronames.isnull().sum()"
   ]
  },
  {
   "cell_type": "code",
   "execution_count": 8,
   "id": "a6fddbb9",
   "metadata": {
    "scrolled": true
   },
   "outputs": [
    {
     "name": "stdout",
     "output_type": "stream",
     "text": [
      "      Id     Name    Class  Style  Difficulty DamageType  Damage  Sturdiness  \\\n",
      "0      1   Aatrox  Warrior      3           2          P       3           3   \n",
      "1      2     Ahri     Mage     10           2          M       3           1   \n",
      "2      3    Akali  Assasin      7           2         PM       3           1   \n",
      "3      4  Alistar  Support      7           1          M       1           3   \n",
      "4      5    Amumu     Tank      9           1          M       2           3   \n",
      "..   ...      ...      ...    ...         ...        ...     ...         ...   \n",
      "140  141      Zed  Assasin      6           3          P       3           1   \n",
      "141  142    Ziggs     Mage      9           2          M       3           1   \n",
      "142  143   Zilean  Support     10           2          M       2           1   \n",
      "143  144      Zoe     Mage     10           3          M       3           1   \n",
      "144  145     Zyra  Support     10           2          M       3           1   \n",
      "\n",
      "     Crowd-Control  Mobility  Functionality  \n",
      "0                2         2            2.0  \n",
      "1                2         3            1.0  \n",
      "2                1         3            1.0  \n",
      "3                3         1            2.0  \n",
      "4                3         1            1.0  \n",
      "..             ...       ...            ...  \n",
      "140              1         3            1.0  \n",
      "141              2         2            1.0  \n",
      "142              2         2            3.0  \n",
      "143              2         2            1.0  \n",
      "144              3         1            1.0  \n",
      "\n",
      "[145 rows x 11 columns]\n"
     ]
    },
    {
     "data": {
      "text/html": [
       "<div>\n",
       "<style scoped>\n",
       "    .dataframe tbody tr th:only-of-type {\n",
       "        vertical-align: middle;\n",
       "    }\n",
       "\n",
       "    .dataframe tbody tr th {\n",
       "        vertical-align: top;\n",
       "    }\n",
       "\n",
       "    .dataframe thead th {\n",
       "        text-align: right;\n",
       "    }\n",
       "</style>\n",
       "<table border=\"1\" class=\"dataframe\">\n",
       "  <thead>\n",
       "    <tr style=\"text-align: right;\">\n",
       "      <th></th>\n",
       "      <th>Id</th>\n",
       "      <th>Name</th>\n",
       "      <th>Class</th>\n",
       "    </tr>\n",
       "  </thead>\n",
       "  <tbody>\n",
       "    <tr>\n",
       "      <th>0</th>\n",
       "      <td>1</td>\n",
       "      <td>Aatrox</td>\n",
       "      <td>Warrior</td>\n",
       "    </tr>\n",
       "    <tr>\n",
       "      <th>1</th>\n",
       "      <td>2</td>\n",
       "      <td>Ahri</td>\n",
       "      <td>Mage</td>\n",
       "    </tr>\n",
       "    <tr>\n",
       "      <th>2</th>\n",
       "      <td>3</td>\n",
       "      <td>Akali</td>\n",
       "      <td>Assasin</td>\n",
       "    </tr>\n",
       "    <tr>\n",
       "      <th>3</th>\n",
       "      <td>4</td>\n",
       "      <td>Alistar</td>\n",
       "      <td>Support</td>\n",
       "    </tr>\n",
       "    <tr>\n",
       "      <th>4</th>\n",
       "      <td>5</td>\n",
       "      <td>Amumu</td>\n",
       "      <td>Tank</td>\n",
       "    </tr>\n",
       "  </tbody>\n",
       "</table>\n",
       "</div>"
      ],
      "text/plain": [
       "   Id     Name    Class\n",
       "0   1   Aatrox  Warrior\n",
       "1   2     Ahri     Mage\n",
       "2   3    Akali  Assasin\n",
       "3   4  Alistar  Support\n",
       "4   5    Amumu     Tank"
      ]
     },
     "execution_count": 8,
     "metadata": {},
     "output_type": "execute_result"
    }
   ],
   "source": [
    "# CHAMPS5DEN GELEN ŞAMPİYONLAR\n",
    "print(champs5)\n",
    "champs5=champs5.loc[:,\"Id\":\"Class\"]\n",
    "champs5.head()"
   ]
  },
  {
   "cell_type": "code",
   "execution_count": 9,
   "id": "fcc56a4a",
   "metadata": {
    "scrolled": true
   },
   "outputs": [
    {
     "name": "stdout",
     "output_type": "stream",
     "text": [
      "     Unnamed: 0   id                          name  localized_name  \\\n",
      "0             0    1        npc_dota_hero_antimage       Anti-Mage   \n",
      "1             1    2             npc_dota_hero_axe             Axe   \n",
      "2             2    3            npc_dota_hero_bane            Bane   \n",
      "3             3    4     npc_dota_hero_bloodseeker     Bloodseeker   \n",
      "4             4    5  npc_dota_hero_crystal_maiden  Crystal Maiden   \n",
      "..          ...  ...                           ...             ...   \n",
      "115         115  121      npc_dota_hero_grimstroke      Grimstroke   \n",
      "116         116  123        npc_dota_hero_hoodwink        Hoodwink   \n",
      "117         117  126     npc_dota_hero_void_spirit     Void Spirit   \n",
      "118         118  128        npc_dota_hero_snapfire        Snapfire   \n",
      "119         119  129            npc_dota_hero_mars            Mars   \n",
      "\n",
      "    primary_attr attack_type  \\\n",
      "0            agi       Melee   \n",
      "1            str       Melee   \n",
      "2            int      Ranged   \n",
      "3            agi       Melee   \n",
      "4            int      Ranged   \n",
      "..           ...         ...   \n",
      "115          int      Ranged   \n",
      "116          agi      Ranged   \n",
      "117          int       Melee   \n",
      "118          str      Ranged   \n",
      "119          str       Melee   \n",
      "\n",
      "                                                 roles  \\\n",
      "0                         ['Carry', 'Escape', 'Nuker']   \n",
      "1      ['Initiator', 'Durable', 'Disabler', 'Jungler']   \n",
      "2          ['Support', 'Disabler', 'Nuker', 'Durable']   \n",
      "3    ['Carry', 'Disabler', 'Jungler', 'Nuker', 'Ini...   \n",
      "4          ['Support', 'Disabler', 'Nuker', 'Jungler']   \n",
      "..                                                 ...   \n",
      "115         ['Support', 'Nuker', 'Disabler', 'Escape']   \n",
      "116                    ['Nuker', 'Escape', 'Disabler']   \n",
      "117           ['Carry', 'Escape', 'Nuker', 'Disabler']   \n",
      "118         ['Support', 'Nuker', 'Disabler', 'Escape']   \n",
      "119      ['Carry', 'Initiator', 'Disabler', 'Durable']   \n",
      "\n",
      "                                                   img  \\\n",
      "0         /apps/dota2/images/heroes/antimage_full.png?   \n",
      "1              /apps/dota2/images/heroes/axe_full.png?   \n",
      "2             /apps/dota2/images/heroes/bane_full.png?   \n",
      "3      /apps/dota2/images/heroes/bloodseeker_full.png?   \n",
      "4    /apps/dota2/images/heroes/crystal_maiden_full....   \n",
      "..                                                 ...   \n",
      "115     /apps/dota2/images/heroes/grimstroke_full.png?   \n",
      "116       /apps/dota2/images/heroes/hoodwink_full.png?   \n",
      "117    /apps/dota2/images/heroes/void_spirit_full.png?   \n",
      "118       /apps/dota2/images/heroes/snapfire_full.png?   \n",
      "119           /apps/dota2/images/heroes/mars_full.png?   \n",
      "\n",
      "                                                  icon  base_health  ...  \\\n",
      "0          /apps/dota2/images/heroes/antimage_icon.png          200  ...   \n",
      "1               /apps/dota2/images/heroes/axe_icon.png          200  ...   \n",
      "2              /apps/dota2/images/heroes/bane_icon.png          200  ...   \n",
      "3       /apps/dota2/images/heroes/bloodseeker_icon.png          200  ...   \n",
      "4    /apps/dota2/images/heroes/crystal_maiden_icon.png          200  ...   \n",
      "..                                                 ...          ...  ...   \n",
      "115      /apps/dota2/images/heroes/grimstroke_icon.png          200  ...   \n",
      "116        /apps/dota2/images/heroes/hoodwink_icon.png          200  ...   \n",
      "117     /apps/dota2/images/heroes/void_spirit_icon.png          200  ...   \n",
      "118        /apps/dota2/images/heroes/snapfire_icon.png          200  ...   \n",
      "119            /apps/dota2/images/heroes/mars_icon.png          200  ...   \n",
      "\n",
      "     5_win  6_pick  6_win  7_pick  7_win  8_pick  8_win    winrate  lane  \\\n",
      "0    19911   17583   8610    7417   3591    1796    819  47.867144     1   \n",
      "1    14622   12186   5964    4676   2272     951    469  48.711569     3   \n",
      "2     3872    3900   2044    1962   1030     750    399  52.691740     5   \n",
      "3     5956    5636   2828    2479   1219     855    428  49.400120     1   \n",
      "4    19476   17692   9025    7684   3865    2386   1156  49.860973     5   \n",
      "..     ...     ...    ...     ...    ...     ...    ...        ...   ...   \n",
      "115  13142   13809   6571    6162   2900    2168    981  46.590636     5   \n",
      "116  18550   18797   9341    7843   3979    1755    895  50.781413     3   \n",
      "117  13107   14740   7377    7791   3931    3307   1687  50.621734     2   \n",
      "118   8298    8173   3735    3421   1593     787    356  46.316540     4   \n",
      "119  17006   18876   9120    8630   4167    3043   1408  47.759788     3   \n",
      "\n",
      "        main_role  \n",
      "0        safelane  \n",
      "1         offlane  \n",
      "2    hard_support  \n",
      "3        safelane  \n",
      "4    hard_support  \n",
      "..            ...  \n",
      "115  hard_support  \n",
      "116       offlane  \n",
      "117           mid  \n",
      "118       support  \n",
      "119       offlane  \n",
      "\n",
      "[120 rows x 55 columns]\n"
     ]
    },
    {
     "data": {
      "text/html": [
       "<div>\n",
       "<style scoped>\n",
       "    .dataframe tbody tr th:only-of-type {\n",
       "        vertical-align: middle;\n",
       "    }\n",
       "\n",
       "    .dataframe tbody tr th {\n",
       "        vertical-align: top;\n",
       "    }\n",
       "\n",
       "    .dataframe thead th {\n",
       "        text-align: right;\n",
       "    }\n",
       "</style>\n",
       "<table border=\"1\" class=\"dataframe\">\n",
       "  <thead>\n",
       "    <tr style=\"text-align: right;\">\n",
       "      <th></th>\n",
       "      <th>id</th>\n",
       "      <th>name</th>\n",
       "      <th>localized_name</th>\n",
       "      <th>primary_attr</th>\n",
       "      <th>attack_type</th>\n",
       "      <th>roles</th>\n",
       "    </tr>\n",
       "  </thead>\n",
       "  <tbody>\n",
       "    <tr>\n",
       "      <th>0</th>\n",
       "      <td>1</td>\n",
       "      <td>npc_dota_hero_antimage</td>\n",
       "      <td>Anti-Mage</td>\n",
       "      <td>agi</td>\n",
       "      <td>Melee</td>\n",
       "      <td>['Carry', 'Escape', 'Nuker']</td>\n",
       "    </tr>\n",
       "    <tr>\n",
       "      <th>1</th>\n",
       "      <td>2</td>\n",
       "      <td>npc_dota_hero_axe</td>\n",
       "      <td>Axe</td>\n",
       "      <td>str</td>\n",
       "      <td>Melee</td>\n",
       "      <td>['Initiator', 'Durable', 'Disabler', 'Jungler']</td>\n",
       "    </tr>\n",
       "    <tr>\n",
       "      <th>2</th>\n",
       "      <td>3</td>\n",
       "      <td>npc_dota_hero_bane</td>\n",
       "      <td>Bane</td>\n",
       "      <td>int</td>\n",
       "      <td>Ranged</td>\n",
       "      <td>['Support', 'Disabler', 'Nuker', 'Durable']</td>\n",
       "    </tr>\n",
       "    <tr>\n",
       "      <th>3</th>\n",
       "      <td>4</td>\n",
       "      <td>npc_dota_hero_bloodseeker</td>\n",
       "      <td>Bloodseeker</td>\n",
       "      <td>agi</td>\n",
       "      <td>Melee</td>\n",
       "      <td>['Carry', 'Disabler', 'Jungler', 'Nuker', 'Ini...</td>\n",
       "    </tr>\n",
       "    <tr>\n",
       "      <th>4</th>\n",
       "      <td>5</td>\n",
       "      <td>npc_dota_hero_crystal_maiden</td>\n",
       "      <td>Crystal Maiden</td>\n",
       "      <td>int</td>\n",
       "      <td>Ranged</td>\n",
       "      <td>['Support', 'Disabler', 'Nuker', 'Jungler']</td>\n",
       "    </tr>\n",
       "  </tbody>\n",
       "</table>\n",
       "</div>"
      ],
      "text/plain": [
       "   id                          name  localized_name primary_attr attack_type  \\\n",
       "0   1        npc_dota_hero_antimage       Anti-Mage          agi       Melee   \n",
       "1   2             npc_dota_hero_axe             Axe          str       Melee   \n",
       "2   3            npc_dota_hero_bane            Bane          int      Ranged   \n",
       "3   4     npc_dota_hero_bloodseeker     Bloodseeker          agi       Melee   \n",
       "4   5  npc_dota_hero_crystal_maiden  Crystal Maiden          int      Ranged   \n",
       "\n",
       "                                               roles  \n",
       "0                       ['Carry', 'Escape', 'Nuker']  \n",
       "1    ['Initiator', 'Durable', 'Disabler', 'Jungler']  \n",
       "2        ['Support', 'Disabler', 'Nuker', 'Durable']  \n",
       "3  ['Carry', 'Disabler', 'Jungler', 'Nuker', 'Ini...  \n",
       "4        ['Support', 'Disabler', 'Nuker', 'Jungler']  "
      ]
     },
     "execution_count": 9,
     "metadata": {},
     "output_type": "execute_result"
    }
   ],
   "source": [
    "# dotaheroesdatadan GELEN ŞAMPİYONLAR\n",
    "print(dotaheroesdata)\n",
    "dotaheroesdata=dotaheroesdata.loc[:,\"id\":\"roles\"]\n",
    "dotaheroesdata.head()"
   ]
  },
  {
   "cell_type": "code",
   "execution_count": 10,
   "id": "fe7a97f2",
   "metadata": {},
   "outputs": [
    {
     "data": {
      "text/plain": [
       "Id       0\n",
       "Name     0\n",
       "Class    0\n",
       "dtype: int64"
      ]
     },
     "execution_count": 10,
     "metadata": {},
     "output_type": "execute_result"
    }
   ],
   "source": [
    "# CHAMPS5DEKİ BOŞ SATIRLAR KONTROLÜ\n",
    "champs5.isnull().sum()"
   ]
  },
  {
   "cell_type": "code",
   "execution_count": 11,
   "id": "d7a50f40",
   "metadata": {},
   "outputs": [
    {
     "data": {
      "text/plain": [
       "id                0\n",
       "name              0\n",
       "localized_name    0\n",
       "primary_attr      0\n",
       "attack_type       0\n",
       "roles             0\n",
       "dtype: int64"
      ]
     },
     "execution_count": 11,
     "metadata": {},
     "output_type": "execute_result"
    }
   ],
   "source": [
    "# dotaheroesdatadaki BOŞ SATIRLAR KONTROLÜ\n",
    "dotaheroesdata.isnull().sum()"
   ]
  },
  {
   "cell_type": "code",
   "execution_count": 12,
   "id": "303482a1",
   "metadata": {
    "scrolled": true
   },
   "outputs": [
    {
     "name": "stdout",
     "output_type": "stream",
     "text": [
      "merged ds full join\n",
      "    name  id    Name     Class\n",
      "138  NaN NaN  Kai Sa  Marksman\n",
      "139  NaN NaN   Neeko      Mage\n",
      "140  NaN NaN    Pyke   Support\n",
      "141  NaN NaN  Qiyana   Warrior\n",
      "142  NaN NaN   Sylas   Warrior\n",
      "143  NaN NaN   Yuumi   Support\n",
      "144  NaN NaN     Zoe      Mage\n",
      "-----------------------------------------\n",
      "Empty DataFrame\n",
      "Columns: [name, id, Name, Class]\n",
      "Index: []\n",
      "\n",
      "\n",
      "-----------left join-------------------\n",
      "\n",
      "\n",
      "merged ds left join\n",
      "Empty DataFrame\n",
      "Columns: [name, id, Name, Class]\n",
      "Index: []\n",
      "-----------------------------------------\n",
      "Empty DataFrame\n",
      "Columns: [name, id, Name, Class]\n",
      "Index: []\n",
      "name     138\n",
      "id       138\n",
      "Name     138\n",
      "Class    138\n",
      "dtype: int64\n"
     ]
    },
    {
     "data": {
      "text/html": [
       "<div>\n",
       "<style scoped>\n",
       "    .dataframe tbody tr th:only-of-type {\n",
       "        vertical-align: middle;\n",
       "    }\n",
       "\n",
       "    .dataframe tbody tr th {\n",
       "        vertical-align: top;\n",
       "    }\n",
       "\n",
       "    .dataframe thead th {\n",
       "        text-align: right;\n",
       "    }\n",
       "</style>\n",
       "<table border=\"1\" class=\"dataframe\">\n",
       "  <thead>\n",
       "    <tr style=\"text-align: right;\">\n",
       "      <th></th>\n",
       "      <th>name</th>\n",
       "      <th>id</th>\n",
       "      <th>Name</th>\n",
       "      <th>Class</th>\n",
       "    </tr>\n",
       "  </thead>\n",
       "  <tbody>\n",
       "    <tr>\n",
       "      <th>0</th>\n",
       "      <td>Jax</td>\n",
       "      <td>24</td>\n",
       "      <td>Jax</td>\n",
       "      <td>Warrior</td>\n",
       "    </tr>\n",
       "    <tr>\n",
       "      <th>1</th>\n",
       "      <td>Sona</td>\n",
       "      <td>37</td>\n",
       "      <td>Sona</td>\n",
       "      <td>Support</td>\n",
       "    </tr>\n",
       "    <tr>\n",
       "      <th>2</th>\n",
       "      <td>Tristana</td>\n",
       "      <td>18</td>\n",
       "      <td>Tristana</td>\n",
       "      <td>Marksman</td>\n",
       "    </tr>\n",
       "    <tr>\n",
       "      <th>3</th>\n",
       "      <td>Varus</td>\n",
       "      <td>110</td>\n",
       "      <td>Varus</td>\n",
       "      <td>Marksman</td>\n",
       "    </tr>\n",
       "    <tr>\n",
       "      <th>4</th>\n",
       "      <td>Fiora</td>\n",
       "      <td>114</td>\n",
       "      <td>Fiora</td>\n",
       "      <td>Warrior</td>\n",
       "    </tr>\n",
       "  </tbody>\n",
       "</table>\n",
       "</div>"
      ],
      "text/plain": [
       "       name   id      Name     Class\n",
       "0       Jax   24       Jax   Warrior\n",
       "1      Sona   37      Sona   Support\n",
       "2  Tristana   18  Tristana  Marksman\n",
       "3     Varus  110     Varus  Marksman\n",
       "4     Fiora  114     Fiora   Warrior"
      ]
     },
     "execution_count": 12,
     "metadata": {},
     "output_type": "execute_result"
    }
   ],
   "source": [
    "# İSİMLER İLE CHAMPS2 VE CHAMPS5İ BİRLEŞTİRME\n",
    "print(\"merged ds full join\")\n",
    "champs = pd.merge(champs2,champs5,how=\"outer\",left_on=\"name\",right_on=\"Name\").drop(\"Id\", axis=1)\n",
    "\n",
    "print(champs[champs[\"name\"].isnull()])\n",
    "print(\"-----------------------------------------\")\n",
    "print(champs[champs[\"Name\"].isnull()])\n",
    "\n",
    "print(\"\\n\\n-----------left join-------------------\\n\\n\")\n",
    "\n",
    "print(\"merged ds left join\")\n",
    "champs = pd.merge(champs2,champs5,how=\"left\",left_on=\"name\",right_on=\"Name\").drop(\"Id\", axis=1)\n",
    "print(champs[champs[\"name\"].isnull()])\n",
    "print(\"-----------------------------------------\")\n",
    "print(champs[champs[\"Name\"].isnull()])\n",
    "print(champs.count())\n",
    "champs.head()"
   ]
  },
  {
   "cell_type": "code",
   "execution_count": 13,
   "id": "966e91c3",
   "metadata": {},
   "outputs": [],
   "source": [
    "# DOTA İÇİN KÜÇÜK TABLOYA BÜYÜKTEN CLASSLARI EKLEMECE\n",
    "newdotachamps = pd.merge(dotaheroesdata,dotaheronames,how=\"right\",left_on=\"localized_name\",right_on=\"localized_name\")\n",
    "newdotachamps=newdotachamps.loc[:,[\"id\",\"localized_name\",\"roles\"]]"
   ]
  },
  {
   "cell_type": "code",
   "execution_count": 14,
   "id": "e55850b5",
   "metadata": {},
   "outputs": [
    {
     "name": "stdout",
     "output_type": "stream",
     "text": [
      "          name   id       Name     Class   GameStyle\n",
      "0          Jax   24        Jax   Warrior  Aggressive\n",
      "1         Sona   37       Sona   Support  Supportive\n",
      "2     Tristana   18   Tristana  Marksman  Aggressive\n",
      "3        Varus  110      Varus  Marksman  Aggressive\n",
      "4        Fiora  114      Fiora   Warrior  Aggressive\n",
      "..         ...  ...        ...       ...         ...\n",
      "133       Shen   98       Shen      Tank  Supportive\n",
      "134  Jarvan IV   59  Jarvan IV   Warrior  Aggressive\n",
      "135   Malzahar   90   Malzahar      Mage  Aggressive\n",
      "136        Zac  154        Zac   Warrior  Aggressive\n",
      "137     Gragas   79     Gragas   Warrior  Aggressive\n",
      "\n",
      "[138 rows x 5 columns]\n"
     ]
    }
   ],
   "source": [
    "# KARAKTERLERİN OYUN TİPLERİ CHAMPS'E SÜTUN OLARAK EKLENDİ\n",
    "GameStyle = []\n",
    "for iter in champs[\"Class\"]:\n",
    "\n",
    "    if (iter == \"Mage\" or iter == \"Marksman\" or iter == \"Assasin\" or iter == \"Warrior\"):\n",
    "        GameStyle.append(\"Aggressive\")\n",
    "    else:\n",
    "        GameStyle.append(\"Supportive\")\n",
    "champs[\"GameStyle\"]=GameStyle\n",
    "print(champs)"
   ]
  },
  {
   "cell_type": "code",
   "execution_count": 15,
   "id": "c5ea7d54",
   "metadata": {
    "scrolled": false
   },
   "outputs": [
    {
     "name": "stdout",
     "output_type": "stream",
     "text": [
      "      id  localized_name                                              roles  \\\n",
      "0      1       Anti-Mage                       ['Carry', 'Escape', 'Nuker']   \n",
      "1      2             Axe    ['Initiator', 'Durable', 'Disabler', 'Jungler']   \n",
      "2      3            Bane        ['Support', 'Disabler', 'Nuker', 'Durable']   \n",
      "3      4     Bloodseeker  ['Carry', 'Disabler', 'Jungler', 'Nuker', 'Ini...   \n",
      "4      5  Crystal Maiden        ['Support', 'Disabler', 'Nuker', 'Jungler']   \n",
      "..   ...             ...                                                ...   \n",
      "107  109     Terrorblade                       ['Carry', 'Pusher', 'Nuker']   \n",
      "108  110         Phoenix  ['Support', 'Nuker', 'Initiator', 'Escape', 'D...   \n",
      "109  111          Oracle         ['Support', 'Nuker', 'Disabler', 'Escape']   \n",
      "110  112   Winter Wyvern                   ['Support', 'Disabler', 'Nuker']   \n",
      "111  113      Arc Warden                       ['Carry', 'Escape', 'Nuker']   \n",
      "\n",
      "      GameStyle  \n",
      "0    Aggressive  \n",
      "1    Supportive  \n",
      "2    Supportive  \n",
      "3    Aggressive  \n",
      "4    Supportive  \n",
      "..          ...  \n",
      "107  Aggressive  \n",
      "108  Supportive  \n",
      "109  Supportive  \n",
      "110  Supportive  \n",
      "111  Aggressive  \n",
      "\n",
      "[112 rows x 4 columns]\n"
     ]
    }
   ],
   "source": [
    "# DOTA İÇİN KARAKTERLERİN OYUN TİPLERİ CHAMPS'E SÜTUN OLARAK EKLENDİ\n",
    "GameStyle2 = []\n",
    "for iter in newdotachamps[\"roles\"]:\n",
    "    iter = iter.split(\"'\")\n",
    "    iter = iter[1]\n",
    "    if (iter==\"Carry\" or iter==\"Nuker\" or iter==\"Escape\" or iter==\"Pusher\"):\n",
    "        GameStyle2.append(\"Aggressive\")\n",
    "    else:\n",
    "        GameStyle2.append(\"Supportive\")\n",
    "newdotachamps[\"GameStyle\"]=GameStyle2\n",
    "print(newdotachamps)"
   ]
  },
  {
   "cell_type": "code",
   "execution_count": 16,
   "id": "5cdeab4c",
   "metadata": {},
   "outputs": [
    {
     "name": "stdout",
     "output_type": "stream",
     "text": [
      "id_x          1834520\n",
      "matchid       1834520\n",
      "player        1834520\n",
      "championid    1834520\n",
      "ss1           1834520\n",
      "ss2           1834520\n",
      "role          1834520\n",
      "position      1834520\n",
      "name          1834520\n",
      "id_y          1834520\n",
      "Name          1834520\n",
      "Class         1834520\n",
      "GameStyle     1834520\n",
      "dtype: int64\n"
     ]
    },
    {
     "data": {
      "text/html": [
       "<div>\n",
       "<style scoped>\n",
       "    .dataframe tbody tr th:only-of-type {\n",
       "        vertical-align: middle;\n",
       "    }\n",
       "\n",
       "    .dataframe tbody tr th {\n",
       "        vertical-align: top;\n",
       "    }\n",
       "\n",
       "    .dataframe thead th {\n",
       "        text-align: right;\n",
       "    }\n",
       "</style>\n",
       "<table border=\"1\" class=\"dataframe\">\n",
       "  <thead>\n",
       "    <tr style=\"text-align: right;\">\n",
       "      <th></th>\n",
       "      <th>id_x</th>\n",
       "      <th>matchid</th>\n",
       "      <th>player</th>\n",
       "      <th>championid</th>\n",
       "      <th>ss1</th>\n",
       "      <th>ss2</th>\n",
       "      <th>role</th>\n",
       "      <th>position</th>\n",
       "      <th>name</th>\n",
       "      <th>id_y</th>\n",
       "      <th>Name</th>\n",
       "      <th>Class</th>\n",
       "      <th>GameStyle</th>\n",
       "    </tr>\n",
       "  </thead>\n",
       "  <tbody>\n",
       "    <tr>\n",
       "      <th>0</th>\n",
       "      <td>9</td>\n",
       "      <td>10</td>\n",
       "      <td>1</td>\n",
       "      <td>19</td>\n",
       "      <td>4</td>\n",
       "      <td>11</td>\n",
       "      <td>NONE</td>\n",
       "      <td>JUNGLE</td>\n",
       "      <td>Warwick</td>\n",
       "      <td>19</td>\n",
       "      <td>Warwick</td>\n",
       "      <td>Warrior</td>\n",
       "      <td>Aggressive</td>\n",
       "    </tr>\n",
       "    <tr>\n",
       "      <th>1</th>\n",
       "      <td>10</td>\n",
       "      <td>10</td>\n",
       "      <td>2</td>\n",
       "      <td>267</td>\n",
       "      <td>3</td>\n",
       "      <td>4</td>\n",
       "      <td>DUO_SUPPORT</td>\n",
       "      <td>BOT</td>\n",
       "      <td>Nami</td>\n",
       "      <td>267</td>\n",
       "      <td>Nami</td>\n",
       "      <td>Support</td>\n",
       "      <td>Supportive</td>\n",
       "    </tr>\n",
       "    <tr>\n",
       "      <th>2</th>\n",
       "      <td>11</td>\n",
       "      <td>10</td>\n",
       "      <td>3</td>\n",
       "      <td>119</td>\n",
       "      <td>7</td>\n",
       "      <td>4</td>\n",
       "      <td>DUO_CARRY</td>\n",
       "      <td>BOT</td>\n",
       "      <td>Draven</td>\n",
       "      <td>119</td>\n",
       "      <td>Draven</td>\n",
       "      <td>Marksman</td>\n",
       "      <td>Aggressive</td>\n",
       "    </tr>\n",
       "    <tr>\n",
       "      <th>3</th>\n",
       "      <td>12</td>\n",
       "      <td>10</td>\n",
       "      <td>4</td>\n",
       "      <td>114</td>\n",
       "      <td>12</td>\n",
       "      <td>4</td>\n",
       "      <td>SOLO</td>\n",
       "      <td>TOP</td>\n",
       "      <td>Fiora</td>\n",
       "      <td>114</td>\n",
       "      <td>Fiora</td>\n",
       "      <td>Warrior</td>\n",
       "      <td>Aggressive</td>\n",
       "    </tr>\n",
       "    <tr>\n",
       "      <th>4</th>\n",
       "      <td>13</td>\n",
       "      <td>10</td>\n",
       "      <td>5</td>\n",
       "      <td>112</td>\n",
       "      <td>4</td>\n",
       "      <td>3</td>\n",
       "      <td>SOLO</td>\n",
       "      <td>MID</td>\n",
       "      <td>Viktor</td>\n",
       "      <td>112</td>\n",
       "      <td>Viktor</td>\n",
       "      <td>Mage</td>\n",
       "      <td>Aggressive</td>\n",
       "    </tr>\n",
       "    <tr>\n",
       "      <th>5</th>\n",
       "      <td>14</td>\n",
       "      <td>10</td>\n",
       "      <td>6</td>\n",
       "      <td>72</td>\n",
       "      <td>11</td>\n",
       "      <td>4</td>\n",
       "      <td>NONE</td>\n",
       "      <td>JUNGLE</td>\n",
       "      <td>Skarner</td>\n",
       "      <td>72</td>\n",
       "      <td>Skarner</td>\n",
       "      <td>Warrior</td>\n",
       "      <td>Aggressive</td>\n",
       "    </tr>\n",
       "    <tr>\n",
       "      <th>6</th>\n",
       "      <td>15</td>\n",
       "      <td>10</td>\n",
       "      <td>7</td>\n",
       "      <td>3</td>\n",
       "      <td>4</td>\n",
       "      <td>12</td>\n",
       "      <td>SOLO</td>\n",
       "      <td>TOP</td>\n",
       "      <td>Galio</td>\n",
       "      <td>3</td>\n",
       "      <td>Galio</td>\n",
       "      <td>Mage</td>\n",
       "      <td>Aggressive</td>\n",
       "    </tr>\n",
       "    <tr>\n",
       "      <th>7</th>\n",
       "      <td>16</td>\n",
       "      <td>10</td>\n",
       "      <td>8</td>\n",
       "      <td>103</td>\n",
       "      <td>14</td>\n",
       "      <td>4</td>\n",
       "      <td>SOLO</td>\n",
       "      <td>MID</td>\n",
       "      <td>Ahri</td>\n",
       "      <td>103</td>\n",
       "      <td>Ahri</td>\n",
       "      <td>Mage</td>\n",
       "      <td>Aggressive</td>\n",
       "    </tr>\n",
       "    <tr>\n",
       "      <th>8</th>\n",
       "      <td>17</td>\n",
       "      <td>10</td>\n",
       "      <td>9</td>\n",
       "      <td>222</td>\n",
       "      <td>7</td>\n",
       "      <td>4</td>\n",
       "      <td>DUO_CARRY</td>\n",
       "      <td>BOT</td>\n",
       "      <td>Jinx</td>\n",
       "      <td>222</td>\n",
       "      <td>Jinx</td>\n",
       "      <td>Marksman</td>\n",
       "      <td>Aggressive</td>\n",
       "    </tr>\n",
       "    <tr>\n",
       "      <th>9</th>\n",
       "      <td>18</td>\n",
       "      <td>10</td>\n",
       "      <td>10</td>\n",
       "      <td>161</td>\n",
       "      <td>14</td>\n",
       "      <td>4</td>\n",
       "      <td>DUO_SUPPORT</td>\n",
       "      <td>BOT</td>\n",
       "      <td>VelKoz</td>\n",
       "      <td>161</td>\n",
       "      <td>VelKoz</td>\n",
       "      <td>Mage</td>\n",
       "      <td>Aggressive</td>\n",
       "    </tr>\n",
       "  </tbody>\n",
       "</table>\n",
       "</div>"
      ],
      "text/plain": [
       "   id_x  matchid  player  championid  ss1  ss2         role position     name  \\\n",
       "0     9       10       1          19    4   11         NONE   JUNGLE  Warwick   \n",
       "1    10       10       2         267    3    4  DUO_SUPPORT      BOT     Nami   \n",
       "2    11       10       3         119    7    4    DUO_CARRY      BOT   Draven   \n",
       "3    12       10       4         114   12    4         SOLO      TOP    Fiora   \n",
       "4    13       10       5         112    4    3         SOLO      MID   Viktor   \n",
       "5    14       10       6          72   11    4         NONE   JUNGLE  Skarner   \n",
       "6    15       10       7           3    4   12         SOLO      TOP    Galio   \n",
       "7    16       10       8         103   14    4         SOLO      MID     Ahri   \n",
       "8    17       10       9         222    7    4    DUO_CARRY      BOT     Jinx   \n",
       "9    18       10      10         161   14    4  DUO_SUPPORT      BOT   VelKoz   \n",
       "\n",
       "   id_y     Name     Class   GameStyle  \n",
       "0    19  Warwick   Warrior  Aggressive  \n",
       "1   267     Nami   Support  Supportive  \n",
       "2   119   Draven  Marksman  Aggressive  \n",
       "3   114    Fiora   Warrior  Aggressive  \n",
       "4   112   Viktor      Mage  Aggressive  \n",
       "5    72  Skarner   Warrior  Aggressive  \n",
       "6     3    Galio      Mage  Aggressive  \n",
       "7   103     Ahri      Mage  Aggressive  \n",
       "8   222     Jinx  Marksman  Aggressive  \n",
       "9   161   VelKoz      Mage  Aggressive  "
      ]
     },
     "execution_count": 16,
     "metadata": {},
     "output_type": "execute_result"
    }
   ],
   "source": [
    "# MAÇLARDAKİ ŞAMPİYON IDYE GÖRE ŞAMPİYON ÖZELLİKLERİNİ LİSTELEME\n",
    "participants= pd.merge(participants,champs,how=\"left\",left_on=\"championid\",right_on=\"id\")\n",
    "\n",
    "print(participants.isnull().count())\n",
    "participants.head(10)"
   ]
  },
  {
   "cell_type": "code",
   "execution_count": 17,
   "id": "c2c299a3",
   "metadata": {},
   "outputs": [
    {
     "name": "stdout",
     "output_type": "stream",
     "text": [
      "1834520\n",
      "64     59286\n",
      "51     57275\n",
      "236    56676\n",
      "412    48877\n",
      "103    37424\n",
      "       ...  \n",
      "136     2231\n",
      "72      2111\n",
      "82      2107\n",
      "421     2106\n",
      "6       1021\n",
      "Name: championid, Length: 136, dtype: int64\n"
     ]
    }
   ],
   "source": [
    "# ŞAMPİYON IDYE GÖRE MAÇLARDA EN ÇOK SEÇİLEN KARAKTERLER\n",
    "print(participants.championid.count())\n",
    "print(participants.championid.value_counts())"
   ]
  },
  {
   "cell_type": "code",
   "execution_count": 18,
   "id": "028c9a39",
   "metadata": {},
   "outputs": [
    {
     "name": "stdout",
     "output_type": "stream",
     "text": [
      "500000\n",
      "21     20881\n",
      "11     17007\n",
      "74     11676\n",
      "7      11323\n",
      "28     11181\n",
      "       ...  \n",
      "80       967\n",
      "78       931\n",
      "103      838\n",
      "66       579\n",
      "0         37\n",
      "Name: hero_id, Length: 111, dtype: int64\n"
     ]
    }
   ],
   "source": [
    "# DOTA ŞAMPİYON IDYE GÖRE MAÇLARDA EN ÇOK SEÇİLEN KARAKTERLER\n",
    "print(dotaplayers.hero_id.count())\n",
    "print(dotaplayers.hero_id.value_counts())"
   ]
  },
  {
   "cell_type": "code",
   "execution_count": 19,
   "id": "7e1cc1b3",
   "metadata": {},
   "outputs": [
    {
     "name": "stdout",
     "output_type": "stream",
     "text": [
      "1834520\n",
      "Lee Sin         59286\n",
      "Caitlyn         57275\n",
      "Lucian          56676\n",
      "Thresh          48877\n",
      "Ahri            37424\n",
      "                ...  \n",
      "Aurelion Sol     2231\n",
      "Skarner          2111\n",
      "Mordekaiser      2107\n",
      "RekSai           2106\n",
      "Urgot            1021\n",
      "Name: Name, Length: 136, dtype: int64\n"
     ]
    }
   ],
   "source": [
    "# ŞAMPİYON İSMİNE GÖRE MAÇLARDA EN ÇOK SEÇİLEN KARAKTERLER\n",
    "print(participants.Name.count())\n",
    "print(participants.Name.value_counts())"
   ]
  },
  {
   "cell_type": "code",
   "execution_count": 20,
   "id": "79f82d4c",
   "metadata": {},
   "outputs": [],
   "source": [
    "# BURAYA ÜSTTEKİNİN DOTA VERSİYONU GELECEK"
   ]
  },
  {
   "cell_type": "code",
   "execution_count": 21,
   "id": "a24a5610",
   "metadata": {},
   "outputs": [
    {
     "name": "stdout",
     "output_type": "stream",
     "text": [
      "1834520\n",
      "Aggressive    1432911\n",
      "Supportive     401609\n",
      "Name: GameStyle, dtype: int64\n"
     ]
    }
   ],
   "source": [
    "# AGGRESSIVE VE SUPPORTIVE HEROLARIN MAÇLARDA SEÇİLME SAYILARI\n",
    "print(participants.GameStyle.count())\n",
    "print(participants.GameStyle.value_counts())"
   ]
  },
  {
   "cell_type": "code",
   "execution_count": 22,
   "id": "28cea16b",
   "metadata": {},
   "outputs": [],
   "source": [
    "# BURAYA ÜSTTEKİNİN DOTA VERSİYONU GELECEK"
   ]
  },
  {
   "cell_type": "code",
   "execution_count": 23,
   "id": "d753a1b5",
   "metadata": {},
   "outputs": [
    {
     "name": "stdout",
     "output_type": "stream",
     "text": [
      "1432911\n",
      "401609\n"
     ]
    },
    {
     "data": {
      "image/png": "[encoded data removed]",
      "text/plain": [
       "<Figure size 504x504 with 1 Axes>"
      ]
     },
     "metadata": {},
     "output_type": "display_data"
    }
   ],
   "source": [
    "# 1800000 MAÇTA SEÇİLEN KARAKTERLERİN AGRO / SUP OLDUĞUNUN PİECHARTI\n",
    "labels=\"Aggressive\", \"Supportive\"\n",
    "class1=participants[participants[\"GameStyle\"]==\"Aggressive\"].count()[1]\n",
    "class2=participants[participants[\"GameStyle\"]==\"Supportive\"].count()[1]\n",
    "print(class1)\n",
    "print(class2)\n",
    "my_data=[class1,class2]\n",
    "plt.pie(my_data,labels=labels,autopct='%2.f%%')\n",
    "plt.show()"
   ]
  },
  {
   "cell_type": "code",
   "execution_count": 24,
   "id": "22212bf7",
   "metadata": {},
   "outputs": [],
   "source": [
    "# BURAYA ÜSTTEKİNİN DOTA VERSİYONU GELECEK"
   ]
  },
  {
   "cell_type": "code",
   "execution_count": 25,
   "id": "389cd22b",
   "metadata": {},
   "outputs": [
    {
     "name": "stdout",
     "output_type": "stream",
     "text": [
      "matchid       1099185\n",
      "teamid        1099185\n",
      "championid    1099185\n",
      "banturn       1099185\n",
      "dtype: int64\n",
      "matchid       1099185\n",
      "teamid        1099185\n",
      "championid    1099185\n",
      "banturn       1099185\n",
      "dtype: int64\n"
     ]
    },
    {
     "data": {
      "text/html": [
       "<div>\n",
       "<style scoped>\n",
       "    .dataframe tbody tr th:only-of-type {\n",
       "        vertical-align: middle;\n",
       "    }\n",
       "\n",
       "    .dataframe tbody tr th {\n",
       "        vertical-align: top;\n",
       "    }\n",
       "\n",
       "    .dataframe thead th {\n",
       "        text-align: right;\n",
       "    }\n",
       "</style>\n",
       "<table border=\"1\" class=\"dataframe\">\n",
       "  <thead>\n",
       "    <tr style=\"text-align: right;\">\n",
       "      <th></th>\n",
       "      <th>matchid</th>\n",
       "      <th>teamid</th>\n",
       "      <th>championid</th>\n",
       "      <th>banturn</th>\n",
       "    </tr>\n",
       "  </thead>\n",
       "  <tbody>\n",
       "    <tr>\n",
       "      <th>0</th>\n",
       "      <td>10</td>\n",
       "      <td>100</td>\n",
       "      <td>11</td>\n",
       "      <td>1</td>\n",
       "    </tr>\n",
       "    <tr>\n",
       "      <th>1</th>\n",
       "      <td>10</td>\n",
       "      <td>100</td>\n",
       "      <td>117</td>\n",
       "      <td>3</td>\n",
       "    </tr>\n",
       "    <tr>\n",
       "      <th>2</th>\n",
       "      <td>10</td>\n",
       "      <td>100</td>\n",
       "      <td>120</td>\n",
       "      <td>5</td>\n",
       "    </tr>\n",
       "    <tr>\n",
       "      <th>3</th>\n",
       "      <td>10</td>\n",
       "      <td>200</td>\n",
       "      <td>84</td>\n",
       "      <td>2</td>\n",
       "    </tr>\n",
       "    <tr>\n",
       "      <th>4</th>\n",
       "      <td>10</td>\n",
       "      <td>200</td>\n",
       "      <td>201</td>\n",
       "      <td>4</td>\n",
       "    </tr>\n",
       "  </tbody>\n",
       "</table>\n",
       "</div>"
      ],
      "text/plain": [
       "   matchid  teamid  championid  banturn\n",
       "0       10     100          11        1\n",
       "1       10     100         117        3\n",
       "2       10     100         120        5\n",
       "3       10     200          84        2\n",
       "4       10     200         201        4"
      ]
     },
     "execution_count": 25,
     "metadata": {},
     "output_type": "execute_result"
    }
   ],
   "source": [
    "# BANLANAN DATALARI VE NULL VAR MI KONTROLÜ\n",
    "print(teambans.count())\n",
    "print(teambans.isnull().count())\n",
    "teambans.head()"
   ]
  },
  {
   "cell_type": "code",
   "execution_count": 26,
   "id": "2f596134",
   "metadata": {},
   "outputs": [],
   "source": [
    "# BURAYA ÜSTTEKİNİN DOTA VERSİYONU GELECEK"
   ]
  },
  {
   "cell_type": "code",
   "execution_count": 27,
   "id": "55c159e8",
   "metadata": {},
   "outputs": [
    {
     "name": "stdout",
     "output_type": "stream",
     "text": [
      "matchid       1099185\n",
      "teamid        1099185\n",
      "championid    1099185\n",
      "banturn       1099185\n",
      "name          1099185\n",
      "id            1099185\n",
      "Name          1099185\n",
      "Class         1099185\n",
      "GameStyle     1099185\n",
      "dtype: int64\n"
     ]
    },
    {
     "data": {
      "text/html": [
       "<div>\n",
       "<style scoped>\n",
       "    .dataframe tbody tr th:only-of-type {\n",
       "        vertical-align: middle;\n",
       "    }\n",
       "\n",
       "    .dataframe tbody tr th {\n",
       "        vertical-align: top;\n",
       "    }\n",
       "\n",
       "    .dataframe thead th {\n",
       "        text-align: right;\n",
       "    }\n",
       "</style>\n",
       "<table border=\"1\" class=\"dataframe\">\n",
       "  <thead>\n",
       "    <tr style=\"text-align: right;\">\n",
       "      <th></th>\n",
       "      <th>matchid</th>\n",
       "      <th>teamid</th>\n",
       "      <th>championid</th>\n",
       "      <th>banturn</th>\n",
       "      <th>name</th>\n",
       "      <th>id</th>\n",
       "      <th>Name</th>\n",
       "      <th>Class</th>\n",
       "      <th>GameStyle</th>\n",
       "    </tr>\n",
       "  </thead>\n",
       "  <tbody>\n",
       "    <tr>\n",
       "      <th>0</th>\n",
       "      <td>10</td>\n",
       "      <td>100</td>\n",
       "      <td>11</td>\n",
       "      <td>1</td>\n",
       "      <td>Master Yi</td>\n",
       "      <td>11</td>\n",
       "      <td>Master Yi</td>\n",
       "      <td>Assasin</td>\n",
       "      <td>Aggressive</td>\n",
       "    </tr>\n",
       "    <tr>\n",
       "      <th>1</th>\n",
       "      <td>10</td>\n",
       "      <td>100</td>\n",
       "      <td>117</td>\n",
       "      <td>3</td>\n",
       "      <td>Lulu</td>\n",
       "      <td>117</td>\n",
       "      <td>Lulu</td>\n",
       "      <td>Support</td>\n",
       "      <td>Supportive</td>\n",
       "    </tr>\n",
       "    <tr>\n",
       "      <th>2</th>\n",
       "      <td>10</td>\n",
       "      <td>100</td>\n",
       "      <td>120</td>\n",
       "      <td>5</td>\n",
       "      <td>Hecarim</td>\n",
       "      <td>120</td>\n",
       "      <td>Hecarim</td>\n",
       "      <td>Warrior</td>\n",
       "      <td>Aggressive</td>\n",
       "    </tr>\n",
       "    <tr>\n",
       "      <th>3</th>\n",
       "      <td>10</td>\n",
       "      <td>200</td>\n",
       "      <td>84</td>\n",
       "      <td>2</td>\n",
       "      <td>Akali</td>\n",
       "      <td>84</td>\n",
       "      <td>Akali</td>\n",
       "      <td>Assasin</td>\n",
       "      <td>Aggressive</td>\n",
       "    </tr>\n",
       "    <tr>\n",
       "      <th>4</th>\n",
       "      <td>10</td>\n",
       "      <td>200</td>\n",
       "      <td>201</td>\n",
       "      <td>4</td>\n",
       "      <td>Braum</td>\n",
       "      <td>201</td>\n",
       "      <td>Braum</td>\n",
       "      <td>Support</td>\n",
       "      <td>Supportive</td>\n",
       "    </tr>\n",
       "  </tbody>\n",
       "</table>\n",
       "</div>"
      ],
      "text/plain": [
       "   matchid  teamid  championid  banturn       name   id       Name    Class  \\\n",
       "0       10     100          11        1  Master Yi   11  Master Yi  Assasin   \n",
       "1       10     100         117        3       Lulu  117       Lulu  Support   \n",
       "2       10     100         120        5    Hecarim  120    Hecarim  Warrior   \n",
       "3       10     200          84        2      Akali   84      Akali  Assasin   \n",
       "4       10     200         201        4      Braum  201      Braum  Support   \n",
       "\n",
       "    GameStyle  \n",
       "0  Aggressive  \n",
       "1  Supportive  \n",
       "2  Aggressive  \n",
       "3  Aggressive  \n",
       "4  Supportive  "
      ]
     },
     "execution_count": 27,
     "metadata": {},
     "output_type": "execute_result"
    }
   ],
   "source": [
    "# BANLANANLAR TABLOSUYLA CHAMPS İ BİRLEŞTİRİYORUZ\n",
    "teambans= pd.merge(teambans,champs,how=\"left\",left_on=\"championid\",right_on=\"id\")\n",
    "print(teambans.isnull().count())\n",
    "teambans.head()"
   ]
  },
  {
   "cell_type": "code",
   "execution_count": 28,
   "id": "a11c2657",
   "metadata": {},
   "outputs": [],
   "source": [
    "# BURAYA ÜSTTEKİNİN DOTA VERSİYONU GELECEK"
   ]
  },
  {
   "cell_type": "code",
   "execution_count": 29,
   "id": "3cf7d225",
   "metadata": {},
   "outputs": [
    {
     "name": "stdout",
     "output_type": "stream",
     "text": [
      "898795\n",
      "200390\n"
     ]
    },
    {
     "data": {
      "image/png": "[encoded data removed]",
      "text/plain": [
       "<Figure size 504x504 with 1 Axes>"
      ]
     },
     "metadata": {},
     "output_type": "display_data"
    }
   ],
   "source": [
    "# 1000000 MAÇTA banlanan KARAKTERLERİN AGRO / SUP OLDUĞUNUN PİECHARTI\n",
    "labels=\"Aggressive\", \"Supportive\"\n",
    "class1=teambans[teambans[\"GameStyle\"]==\"Aggressive\"].count()[1]\n",
    "class2=teambans[teambans[\"GameStyle\"]==\"Supportive\"].count()[1]\n",
    "print(class1)\n",
    "print(class2)\n",
    "my_data=[class1,class2]\n",
    "plt.pie(my_data,labels=labels,autopct='%2.f%%')\n",
    "plt.show()"
   ]
  },
  {
   "cell_type": "code",
   "execution_count": 30,
   "id": "134873c3",
   "metadata": {},
   "outputs": [],
   "source": [
    "# BURAYA ÜSTTEKİNİN DOTA VERSİYONU GELECEK"
   ]
  },
  {
   "cell_type": "code",
   "execution_count": 31,
   "id": "e7756444",
   "metadata": {},
   "outputs": [
    {
     "name": "stdout",
     "output_type": "stream",
     "text": [
      "1099185\n",
      "Yasuo      97862\n",
      "Fizz       81525\n",
      "Xayah      77293\n",
      "Lulu       75421\n",
      "Darius     58799\n",
      "           ...  \n",
      "Sion         221\n",
      "Nami         161\n",
      "Corki        156\n",
      "Karthus      122\n",
      "Sivir         78\n",
      "Name: Name, Length: 136, dtype: int64\n"
     ]
    }
   ],
   "source": [
    "# İSME GÖRE EN ÇOK BANLANAN KARAKTERLER\n",
    "print(teambans.Name.count())\n",
    "print(teambans.Name.value_counts())"
   ]
  },
  {
   "cell_type": "code",
   "execution_count": 32,
   "id": "f1ec8a6a",
   "metadata": {},
   "outputs": [],
   "source": [
    "# BURAYA ÜSTTEKİNİN DOTA VERSİYONU GELECEK"
   ]
  },
  {
   "cell_type": "code",
   "execution_count": 33,
   "id": "d8c93d76",
   "metadata": {},
   "outputs": [
    {
     "data": {
      "text/plain": [
       "Lee Sin    59286\n",
       "Caitlyn    57275\n",
       "Lucian     56676\n",
       "Thresh     48877\n",
       "Ahri       37424\n",
       "Vayne      35014\n",
       "Yasuo      30257\n",
       "Xayah      28944\n",
       "Orianna    28594\n",
       "Ezreal     28397\n",
       "Name: Name, dtype: int64"
      ]
     },
     "execution_count": 33,
     "metadata": {},
     "output_type": "execute_result"
    }
   ],
   "source": [
    "# İSME GÖRE EN ÇOK SEÇİLEN 10 KARAKTER\n",
    "participants.Name.value_counts().head(10)"
   ]
  },
  {
   "cell_type": "code",
   "execution_count": 34,
   "id": "b1522700",
   "metadata": {},
   "outputs": [],
   "source": [
    "# BURAYA ÜSTTEKİNİN DOTA VERSİYONU GELECEK"
   ]
  },
  {
   "cell_type": "code",
   "execution_count": 35,
   "id": "33a257a7",
   "metadata": {},
   "outputs": [
    {
     "name": "stdout",
     "output_type": "stream",
     "text": [
      "410744\n",
      "['Lee Sin', 'Caitlyn', 'Lucian', 'Thresh', 'Ahri', 'Vayne', 'Yasuo', 'Xayah', 'Orianna', 'Ezreal']\n",
      "[59286, 57275, 56676, 48877, 37424, 35014, 30257, 28944, 28594, 28397]\n"
     ]
    }
   ],
   "source": [
    "# İSME GÖRE EN ÇOK SEÇİLEN 10 KARAKTERİ AYRI ARRAYLERE ATMACA\n",
    "bantop=[]\n",
    "labelbantop=[]\n",
    "choosetop=[]\n",
    "labelchoosetop=[]\n",
    "print(participants.Name.value_counts().head(10).sum())\n",
    "for iter in range(10):\n",
    "    labelchoosetop.append(participants.Name.value_counts().head(10).index[iter])\n",
    "    choosetop.append(participants.Name.value_counts().head(10)[iter])\n",
    "print(labelchoosetop)\n",
    "print(choosetop)"
   ]
  },
  {
   "cell_type": "code",
   "execution_count": 36,
   "id": "bb76d991",
   "metadata": {},
   "outputs": [],
   "source": [
    "# BURAYA ÜSTTEKİNİN DOTA VERSİYONU GELECEK"
   ]
  },
  {
   "cell_type": "code",
   "execution_count": 37,
   "id": "26efad4d",
   "metadata": {},
   "outputs": [
    {
     "name": "stdout",
     "output_type": "stream",
     "text": [
      "Yasuo       97862\n",
      "Fizz        81525\n",
      "Xayah       77293\n",
      "Lulu        75421\n",
      "Darius      58799\n",
      "Sejuani     47063\n",
      "Zed         41395\n",
      "Katarina    39800\n",
      "Fiora       36246\n",
      "Ivern       30356\n",
      "Name: Name, dtype: int64\n",
      "['Yasuo', 'Fizz', 'Xayah', 'Lulu', 'Darius', 'Sejuani', 'Zed', 'Katarina', 'Fiora', 'Ivern']\n",
      "[97862, 81525, 77293, 75421, 58799, 47063, 41395, 39800, 36246, 30356]\n"
     ]
    }
   ],
   "source": [
    "# İSME GÖRE EN ÇOK BANLANAN 10 KARAKTERİ AYRI ARRAYLERE ATMACA\n",
    "print(teambans.Name.value_counts().head(10))\n",
    "for iter in range(10):\n",
    "    labelbantop.append(teambans.Name.value_counts().head(10).index[iter])\n",
    "    bantop.append(teambans.Name.value_counts().head(10)[iter])\n",
    "print(labelbantop)\n",
    "print(bantop)"
   ]
  },
  {
   "cell_type": "code",
   "execution_count": 38,
   "id": "b01160ad",
   "metadata": {},
   "outputs": [],
   "source": [
    "# BURAYA ÜSTTEKİNİN DOTA VERSİYONU GELECEK"
   ]
  },
  {
   "cell_type": "code",
   "execution_count": 39,
   "id": "2b2db39e",
   "metadata": {},
   "outputs": [
    {
     "data": {
      "image/png": "[encoded data removed]",
      "text/plain": [
       "<Figure size 864x432 with 1 Axes>"
      ]
     },
     "metadata": {
      "needs_background": "light"
     },
     "output_type": "display_data"
    }
   ],
   "source": [
    "# TOP 10 SEÇİLENLER BARCHART\n",
    "plt.figure(figsize=(12, 6))\n",
    "plt.title('Top 10 selected characters')\n",
    "plt.bar(labelchoosetop, choosetop, width=0.7,\n",
    "color=['black', 'red', 'green', 'blue', 'cyan', 'orange', 'violet', 'gray', 'gold', 'brown'])\n",
    "plt.show()"
   ]
  },
  {
   "cell_type": "code",
   "execution_count": 40,
   "id": "a46fc164",
   "metadata": {},
   "outputs": [],
   "source": [
    "# BURAYA ÜSTTEKİNİN DOTA VERSİYONU GELECEK"
   ]
  },
  {
   "cell_type": "code",
   "execution_count": 41,
   "id": "cfbb1976",
   "metadata": {},
   "outputs": [
    {
     "data": {
      "image/png": "[encoded data removed]",
      "text/plain": [
       "<Figure size 864x432 with 1 Axes>"
      ]
     },
     "metadata": {
      "needs_background": "light"
     },
     "output_type": "display_data"
    }
   ],
   "source": [
    "# TOP 10 BANLANANLAR BARCHART\n",
    "plt.figure(figsize = (12,6))\n",
    "plt.title('Top 10 banned characters')\n",
    "plt.bar(labelbantop,bantop,width=0.7,color=['black', 'red', 'green', 'blue', 'cyan', 'orange', 'violet', 'gray', 'gold', 'brown'])\n",
    "plt.show()"
   ]
  },
  {
   "cell_type": "code",
   "execution_count": 42,
   "id": "8a522b02",
   "metadata": {},
   "outputs": [],
   "source": [
    "# BURAYA ÜSTTEKİNİN DOTA VERSİYONU GELECEK"
   ]
  },
  {
   "cell_type": "code",
   "execution_count": 43,
   "id": "31b1b3a1",
   "metadata": {},
   "outputs": [
    {
     "data": {
      "text/html": [
       "<div>\n",
       "<style scoped>\n",
       "    .dataframe tbody tr th:only-of-type {\n",
       "        vertical-align: middle;\n",
       "    }\n",
       "\n",
       "    .dataframe tbody tr th {\n",
       "        vertical-align: top;\n",
       "    }\n",
       "\n",
       "    .dataframe thead th {\n",
       "        text-align: right;\n",
       "    }\n",
       "</style>\n",
       "<table border=\"1\" class=\"dataframe\">\n",
       "  <thead>\n",
       "    <tr style=\"text-align: right;\">\n",
       "      <th></th>\n",
       "      <th>id</th>\n",
       "      <th>kills</th>\n",
       "      <th>deaths</th>\n",
       "      <th>assists</th>\n",
       "    </tr>\n",
       "  </thead>\n",
       "  <tbody>\n",
       "    <tr>\n",
       "      <th>0</th>\n",
       "      <td>9</td>\n",
       "      <td>6</td>\n",
       "      <td>10</td>\n",
       "      <td>1</td>\n",
       "    </tr>\n",
       "    <tr>\n",
       "      <th>1</th>\n",
       "      <td>10</td>\n",
       "      <td>0</td>\n",
       "      <td>2</td>\n",
       "      <td>12</td>\n",
       "    </tr>\n",
       "    <tr>\n",
       "      <th>2</th>\n",
       "      <td>11</td>\n",
       "      <td>7</td>\n",
       "      <td>8</td>\n",
       "      <td>5</td>\n",
       "    </tr>\n",
       "    <tr>\n",
       "      <th>3</th>\n",
       "      <td>12</td>\n",
       "      <td>5</td>\n",
       "      <td>11</td>\n",
       "      <td>2</td>\n",
       "    </tr>\n",
       "    <tr>\n",
       "      <th>4</th>\n",
       "      <td>13</td>\n",
       "      <td>2</td>\n",
       "      <td>8</td>\n",
       "      <td>2</td>\n",
       "    </tr>\n",
       "  </tbody>\n",
       "</table>\n",
       "</div>"
      ],
      "text/plain": [
       "   id  kills  deaths  assists\n",
       "0   9      6      10        1\n",
       "1  10      0       2       12\n",
       "2  11      7       8        5\n",
       "3  12      5      11        2\n",
       "4  13      2       8        2"
      ]
     },
     "execution_count": 43,
     "metadata": {},
     "output_type": "execute_result"
    }
   ],
   "source": [
    "df_stats=stats[[\"id\",\"kills\",\"deaths\",\"assists\"]]\n",
    "df_stats.head()"
   ]
  },
  {
   "cell_type": "code",
   "execution_count": 44,
   "id": "a96512b7",
   "metadata": {
    "scrolled": false
   },
   "outputs": [],
   "source": [
    "x = df_stats.iloc[:, [1, 2]].values\n",
    "# wcss = []\n",
    "\n",
    "# for i in range(1, 11):\n",
    "#     kmeans = KMeans(n_clusters = i, init = 'k-means++', max_iter = 300, n_init = 10, random_state = 0)\n",
    "#     kmeans.fit(x)\n",
    "#     wcss.append(kmeans.inertia_)\n",
    "    \n",
    "# plt.plot(range(1, 11), wcss)\n",
    "# plt.title('The elbow method')\n",
    "# plt.xlabel('Number of clusters')\n",
    "# plt.ylabel('WCSS')\n",
    "# plt.show()"
   ]
  },
  {
   "cell_type": "code",
   "execution_count": 45,
   "id": "17245bea",
   "metadata": {
    "scrolled": false
   },
   "outputs": [
    {
     "name": "stdout",
     "output_type": "stream",
     "text": [
      "0.küme -> 75934\n",
      "1.küme -> 38374\n",
      "2.küme -> 125391\n",
      "3.küme -> 94237\n",
      "4.küme -> 67994\n",
      "5.küme -> 42669\n",
      "6.küme -> 75276\n",
      "7.küme -> 46142\n",
      "8.küme -> 21001\n",
      "9.küme -> 76376\n",
      "10.küme -> 131127\n",
      "11.küme -> 109254\n",
      "12.küme -> 96224\n"
     ]
    },
    {
     "data": {
      "text/plain": [
       "<matplotlib.legend.Legend at 0x2a788dc5760>"
      ]
     },
     "execution_count": 45,
     "metadata": {},
     "output_type": "execute_result"
    },
    {
     "name": "stderr",
     "output_type": "stream",
     "text": [
      "C:\\anaconda\\lib\\site-packages\\IPython\\core\\pylabtools.py:132: UserWarning: Creating legend with loc=\"best\" can be slow with large amounts of data.\n",
      "  fig.canvas.print_figure(bytes_io, **kw)\n"
     ]
    },
    {
     "data": {
      "image/png": "[encoded data removed]",
      "text/plain": [
       "<Figure size 504x504 with 1 Axes>"
      ]
     },
     "metadata": {
      "needs_background": "light"
     },
     "output_type": "display_data"
    }
   ],
   "source": [
    "kmeans = KMeans(n_clusters = 13, init = 'k-means++', max_iter = 300, n_init = 10, random_state = 0)\n",
    "y_kmeans = kmeans.fit_predict(x)\n",
    "\n",
    "#Visualising the clusters\n",
    "plt.scatter(x[y_kmeans == 0, 0], x[y_kmeans == 0, 1], s = 100, c = 'red', label = '0')\n",
    "plt.scatter(x[y_kmeans == 1, 0], x[y_kmeans == 1, 1], s = 100, c = 'yellow', label = '1')\n",
    "plt.scatter(x[y_kmeans == 2, 0], x[y_kmeans == 2, 1], s = 100, c = 'lime', label = '2')\n",
    "plt.scatter(x[y_kmeans == 3, 0], x[y_kmeans == 3, 1], s = 100, c = 'black', label = '3')\n",
    "plt.scatter(x[y_kmeans == 4, 0], x[y_kmeans == 4, 1], s = 100, c = 'green', label = '4')\n",
    "plt.scatter(x[y_kmeans == 5, 0], x[y_kmeans == 5, 1], s = 100, c = 'aqua', label = '5')\n",
    "plt.scatter(x[y_kmeans == 6, 0], x[y_kmeans == 6, 1], s = 100, c = 'fuchsia', label = '6')\n",
    "plt.scatter(x[y_kmeans == 7, 0], x[y_kmeans == 7, 1], s = 100, c = 'orange', label = '7')\n",
    "plt.scatter(x[y_kmeans == 8, 0], x[y_kmeans == 8, 1], s = 100, c = 'darkkhaki', label = '8')\n",
    "plt.scatter(x[y_kmeans == 9, 0], x[y_kmeans == 9, 1], s = 100, c = 'yellowgreen', label = '9')\n",
    "plt.scatter(x[y_kmeans == 10, 0], x[y_kmeans == 10, 1], s = 100, c = 'lightskyblue', label = '10')\n",
    "plt.scatter(x[y_kmeans == 11, 0], x[y_kmeans == 11, 1], s = 100, c = 'brown', label = '11')\n",
    "plt.scatter(x[y_kmeans == 12, 0], x[y_kmeans == 12, 1], s = 100, c = 'gray', label = '12')\n",
    "\n",
    "# dağılımdaki kümelerdeki eleman sayıları, buradan agresif/supportive/iyi kötü/bencil olup olmadığı gibi sonuçlar çıkacak.\n",
    "print(\"0.küme -> \" + str(len(x[y_kmeans == 0, 0])))\n",
    "print(\"1.küme -> \" + str(len(x[y_kmeans == 1, 0])))\n",
    "print(\"2.küme -> \" + str(len(x[y_kmeans == 2, 0])))\n",
    "print(\"3.küme -> \" + str(len(x[y_kmeans == 3, 0])))\n",
    "print(\"4.küme -> \" + str(len(x[y_kmeans == 4, 0])))\n",
    "print(\"5.küme -> \" + str(len(x[y_kmeans == 5, 0])))\n",
    "print(\"6.küme -> \" + str(len(x[y_kmeans == 6, 0])))\n",
    "print(\"7.küme -> \" + str(len(x[y_kmeans == 7, 0])))\n",
    "print(\"8.küme -> \" + str(len(x[y_kmeans == 8, 0])))\n",
    "print(\"9.küme -> \" + str(len(x[y_kmeans == 9, 0])))\n",
    "print(\"10.küme -> \" + str(len(x[y_kmeans == 10, 0])))\n",
    "print(\"11.küme -> \" + str(len(x[y_kmeans == 11, 0])))\n",
    "print(\"12.küme -> \" + str(len(x[y_kmeans == 12, 0])))\n",
    "\n",
    "#Plotting the centroids of the clusters\n",
    "plt.scatter(kmeans.cluster_centers_[:, 0], kmeans.cluster_centers_[:,1], s = 100, c = 'gold', marker='^', label = 'Centroids')\n",
    "\n",
    "plt.legend()"
   ]
  },
  {
   "cell_type": "code",
   "execution_count": 46,
   "id": "46eadb84",
   "metadata": {},
   "outputs": [
    {
     "name": "stdout",
     "output_type": "stream",
     "text": [
      "0.küme -> 75934\n",
      "1.küme -> 38374\n",
      "2.küme -> 125391\n",
      "3.küme -> 94237\n",
      "4.küme -> 67994\n",
      "5.küme -> 42669\n",
      "6.küme -> 75276\n",
      "7.küme -> 46142\n",
      "8.küme -> 21001\n",
      "9.küme -> 76376\n",
      "10.küme -> 131127\n",
      "11.küme -> 109254\n",
      "12.küme -> 96224\n"
     ]
    },
    {
     "data": {
      "text/plain": [
       "<matplotlib.legend.Legend at 0x2a790c35400>"
      ]
     },
     "execution_count": 46,
     "metadata": {},
     "output_type": "execute_result"
    },
    {
     "name": "stderr",
     "output_type": "stream",
     "text": [
      "C:\\anaconda\\lib\\site-packages\\IPython\\core\\pylabtools.py:132: UserWarning: Creating legend with loc=\"best\" can be slow with large amounts of data.\n",
      "  fig.canvas.print_figure(bytes_io, **kw)\n"
     ]
    },
    {
     "data": {
      "image/png": "[encoded data removed]",
      "text/plain": [
       "<Figure size 504x504 with 1 Axes>"
      ]
     },
     "metadata": {
      "needs_background": "light"
     },
     "output_type": "display_data"
    }
   ],
   "source": [
    "kmeans = KMeans(n_clusters = 13, init = 'k-means++', max_iter = 300, n_init = 10, random_state = 0)\n",
    "y_kmeans = kmeans.fit_predict(x)\n",
    "\n",
    "#Visualising the clusters\n",
    "plt.scatter(x[y_kmeans == 0, 0], x[y_kmeans == 0, 1], s = 100, c = 'red', label = '0')\n",
    "plt.scatter(x[y_kmeans == 1, 0], x[y_kmeans == 1, 1], s = 100, c = 'blue', label = '1')\n",
    "plt.scatter(x[y_kmeans == 2, 0], x[y_kmeans == 2, 1], s = 100, c = 'black', label = '2')\n",
    "plt.scatter(x[y_kmeans == 3, 0], x[y_kmeans == 3, 1], s = 100, c = 'black', label = '3')\n",
    "plt.scatter(x[y_kmeans == 4, 0], x[y_kmeans == 4, 1], s = 100, c = 'green', label = '4')\n",
    "plt.scatter(x[y_kmeans == 5, 0], x[y_kmeans == 5, 1], s = 100, c = 'red', label = '5')\n",
    "plt.scatter(x[y_kmeans == 6, 0], x[y_kmeans == 6, 1], s = 100, c = 'black', label = '6')\n",
    "plt.scatter(x[y_kmeans == 7, 0], x[y_kmeans == 7, 1], s = 100, c = 'red', label = '7')\n",
    "plt.scatter(x[y_kmeans == 8, 0], x[y_kmeans == 8, 1], s = 100, c = 'green', label = '8')\n",
    "plt.scatter(x[y_kmeans == 9, 0], x[y_kmeans == 9, 1], s = 100, c = 'black', label = '9')\n",
    "plt.scatter(x[y_kmeans == 10, 0], x[y_kmeans == 10, 1], s = 100, c = 'black', label = '10')\n",
    "plt.scatter(x[y_kmeans == 11, 0], x[y_kmeans == 11, 1], s = 100, c = 'red', label = '11')\n",
    "plt.scatter(x[y_kmeans == 12, 0], x[y_kmeans == 12, 1], s = 100, c = 'red', label = '12')\n",
    "\n",
    "# dağılımdaki kümelerdeki eleman sayıları, buradan agresif/supportive/iyi kötü/bencil olup olmadığı gibi sonuçlar çıkacak.\n",
    "print(\"0.küme -> \" + str(len(x[y_kmeans == 0, 0])))\n",
    "print(\"1.küme -> \" + str(len(x[y_kmeans == 1, 0])))\n",
    "print(\"2.küme -> \" + str(len(x[y_kmeans == 2, 0])))\n",
    "print(\"3.küme -> \" + str(len(x[y_kmeans == 3, 0])))\n",
    "print(\"4.küme -> \" + str(len(x[y_kmeans == 4, 0])))\n",
    "print(\"5.küme -> \" + str(len(x[y_kmeans == 5, 0])))\n",
    "print(\"6.küme -> \" + str(len(x[y_kmeans == 6, 0])))\n",
    "print(\"7.küme -> \" + str(len(x[y_kmeans == 7, 0])))\n",
    "print(\"8.küme -> \" + str(len(x[y_kmeans == 8, 0])))\n",
    "print(\"9.küme -> \" + str(len(x[y_kmeans == 9, 0])))\n",
    "print(\"10.küme -> \" + str(len(x[y_kmeans == 10, 0])))\n",
    "print(\"11.küme -> \" + str(len(x[y_kmeans == 11, 0])))\n",
    "print(\"12.küme -> \" + str(len(x[y_kmeans == 12, 0])))\n",
    "\n",
    "#Plotting the centroids of the clusters\n",
    "plt.scatter(kmeans.cluster_centers_[:, 0], kmeans.cluster_centers_[:,1], s = 100, c = 'gold', marker='^', label = 'Centroids')\n",
    "\n",
    "plt.legend()"
   ]
  },
  {
   "cell_type": "code",
   "execution_count": 47,
   "id": "bf260825",
   "metadata": {},
   "outputs": [
    {
     "name": "stderr",
     "output_type": "stream",
     "text": [
      "C:\\anaconda\\lib\\site-packages\\mpl_scatter_density\\generic_density_artist.py:77: RuntimeWarning: All-NaN slice encountered\n",
      "  vmin = self._density_vmin(array)\n",
      "C:\\anaconda\\lib\\site-packages\\mpl_scatter_density\\generic_density_artist.py:82: RuntimeWarning: All-NaN slice encountered\n",
      "  vmax = self._density_vmax(array)\n"
     ]
    },
    {
     "data": {
      "text/plain": [
       "<matplotlib.colorbar.Colorbar at 0x2a796ca94c0>"
      ]
     },
     "execution_count": 47,
     "metadata": {},
     "output_type": "execute_result"
    },
    {
     "data": {
      "image/png": "[encoded data removed]",
      "text/plain": [
       "<Figure size 504x504 with 2 Axes>"
      ]
     },
     "metadata": {
      "needs_background": "light"
     },
     "output_type": "display_data"
    }
   ],
   "source": [
    "x = df_stats[\"assists\"]\n",
    "y = df_stats[\"kills\"]\n",
    "fig = plt.figure()\n",
    "\n",
    "ax = fig.add_subplot(1, 1, 1, projection='scatter_density')\n",
    "density = ax.scatter_density(x, y,dpi=6)\n",
    "ax.set_xlim(0, 50)\n",
    "ax.set_ylim(0, 50)\n",
    "fig.colorbar(density, label='Number of points per pixel')"
   ]
  }
 ],
 "metadata": {
  "kernelspec": {
   "display_name": "Python 3",
   "language": "python",
   "name": "python3"
  },
  "language_info": {
   "codemirror_mode": {
    "name": "ipython",
    "version": 3
   },
   "file_extension": ".py",
   "mimetype": "text/x-python",
   "name": "python",
   "nbconvert_exporter": "python",
   "pygments_lexer": "ipython3",
   "version": "3.8.8"
  }
 },
 "nbformat": 4,
 "nbformat_minor": 5
}
